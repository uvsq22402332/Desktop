{
 "cells": [
  {
   "cell_type": "code",
   "execution_count": 4,
   "metadata": {},
   "outputs": [
    {
     "name": "stdout",
     "output_type": "stream",
     "text": [
      "ce n'est pas un jour de Week end\n"
     ]
    }
   ],
   "source": [
    "#Exercice 1\n",
    "Jour =\"Week-eNd\"\n",
    "if Jour != \"Week-end\":\n",
    "    print(\"ce n'est pas un jour de Week end\")\n",
    "else:\n",
    "    Jour =\"Week-end\"\n",
    "    print(\"c'est le week-end !\")"
   ]
  },
  {
   "cell_type": "code",
   "execution_count": 15,
   "metadata": {},
   "outputs": [
    {
     "name": "stdout",
     "output_type": "stream",
     "text": [
      "il y a une racine double et c'est 0.0\n"
     ]
    }
   ],
   "source": [
    "#Exercice 2\n",
    "\n",
    "from math import *\n",
    "\n",
    "a=int(input(\"quelle est la valeur de A ? dans ton equationd du second degré de la forme Ax²+Bx+C\"))\n",
    "b=int(input(\"quelle est la valeur de B ? dans ton equationd du second degré de la forme Ax²+Bx+C\"))\n",
    "c=int(input(\"quelle est la valeur de C ?dans ton equationd du second degré de la forme Ax²+Bx+C\"))\n",
    "Del= b**2 - (4*a*c)\n",
    "r1 = (-b+sqrt(Del))/2*a\n",
    "r2 = (-b-sqrt(Del))/2*a\n",
    "if Del < 0 :\n",
    "    print (\"les racines sont complexes avec une partie imaginaire non nulle\")\n",
    "if Del == 0:\n",
    "    print(\"il y a une racine double et c'est\" , str(r1))\n",
    "if Del >0 :\n",
    "    print(\"il y a deux racines réelles et les valeurs sont\", str(r1),\"et\",str(r2))"
   ]
  },
  {
   "cell_type": "code",
   "execution_count": 17,
   "metadata": {},
   "outputs": [
    {
     "name": "stdout",
     "output_type": "stream",
     "text": [
      "bravo vous avez trouvé le résultat !\n"
     ]
    }
   ],
   "source": [
    "#Exercice 3\n",
    "x=92\n",
    "y=42\n",
    "k=int(input(f\"quel est le résultat de la division entière de {x} par {y} ?\"))\n",
    "\n",
    "while k != x//y and y!=0 :\n",
    "    k=int(input(f\"quel est le résultat de la division entière de {x} par {y} ?\"))\n",
    "    \n",
    "if k == x//y :\n",
    "    print(\"bravo vous avez trouvé le résultat !\")\n"
   ]
  },
  {
   "cell_type": "code",
   "execution_count": null,
   "metadata": {},
   "outputs": [],
   "source": []
  }
 ],
 "metadata": {
  "kernelspec": {
   "display_name": "l1-python",
   "language": "python",
   "name": "python3"
  },
  "language_info": {
   "codemirror_mode": {
    "name": "ipython",
    "version": 3
   },
   "file_extension": ".py",
   "mimetype": "text/x-python",
   "name": "python",
   "nbconvert_exporter": "python",
   "pygments_lexer": "ipython3",
   "version": "3.12.7"
  }
 },
 "nbformat": 4,
 "nbformat_minor": 2
}
